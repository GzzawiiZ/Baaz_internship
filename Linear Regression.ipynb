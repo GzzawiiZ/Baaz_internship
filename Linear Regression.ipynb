{
 "cells": [
  {
   "cell_type": "code",
   "execution_count": 2,
   "metadata": {},
   "outputs": [],
   "source": [
    "import numpy as np\n",
    "from numpy import c_ \n",
    "import pandas as pd\n",
    "import matplotlib.pyplot as plt"
   ]
  },
  {
   "cell_type": "code",
   "execution_count": 3,
   "metadata": {},
   "outputs": [],
   "source": [
    "df = pd.read_csv(r'C:\\Users\\gzzaw\\Downloads\\Ecommerce Customers.csv')"
   ]
  },
  {
   "cell_type": "code",
   "execution_count": 4,
   "metadata": {},
   "outputs": [
    {
     "data": {
      "text/html": [
       "<div>\n",
       "<style scoped>\n",
       "    .dataframe tbody tr th:only-of-type {\n",
       "        vertical-align: middle;\n",
       "    }\n",
       "\n",
       "    .dataframe tbody tr th {\n",
       "        vertical-align: top;\n",
       "    }\n",
       "\n",
       "    .dataframe thead th {\n",
       "        text-align: right;\n",
       "    }\n",
       "</style>\n",
       "<table border=\"1\" class=\"dataframe\">\n",
       "  <thead>\n",
       "    <tr style=\"text-align: right;\">\n",
       "      <th></th>\n",
       "      <th>Email</th>\n",
       "      <th>Address</th>\n",
       "      <th>Avatar</th>\n",
       "      <th>Avg. Session Length</th>\n",
       "      <th>Time on App</th>\n",
       "      <th>Time on Website</th>\n",
       "      <th>Length of Membership</th>\n",
       "      <th>Yearly Amount Spent</th>\n",
       "    </tr>\n",
       "  </thead>\n",
       "  <tbody>\n",
       "    <tr>\n",
       "      <th>0</th>\n",
       "      <td>mstephenson@fernandez.com</td>\n",
       "      <td>835 Frank Tunnel\\nWrightmouth, MI 82180-9605</td>\n",
       "      <td>Violet</td>\n",
       "      <td>34.497268</td>\n",
       "      <td>12.655651</td>\n",
       "      <td>39.577668</td>\n",
       "      <td>4.082621</td>\n",
       "      <td>587.951054</td>\n",
       "    </tr>\n",
       "    <tr>\n",
       "      <th>1</th>\n",
       "      <td>hduke@hotmail.com</td>\n",
       "      <td>4547 Archer Common\\nDiazchester, CA 06566-8576</td>\n",
       "      <td>DarkGreen</td>\n",
       "      <td>31.926272</td>\n",
       "      <td>11.109461</td>\n",
       "      <td>37.268959</td>\n",
       "      <td>2.664034</td>\n",
       "      <td>392.204933</td>\n",
       "    </tr>\n",
       "    <tr>\n",
       "      <th>2</th>\n",
       "      <td>pallen@yahoo.com</td>\n",
       "      <td>24645 Valerie Unions Suite 582\\nCobbborough, D...</td>\n",
       "      <td>Bisque</td>\n",
       "      <td>33.000915</td>\n",
       "      <td>11.330278</td>\n",
       "      <td>37.110597</td>\n",
       "      <td>4.104543</td>\n",
       "      <td>487.547505</td>\n",
       "    </tr>\n",
       "    <tr>\n",
       "      <th>3</th>\n",
       "      <td>riverarebecca@gmail.com</td>\n",
       "      <td>1414 David Throughway\\nPort Jason, OH 22070-1220</td>\n",
       "      <td>SaddleBrown</td>\n",
       "      <td>34.305557</td>\n",
       "      <td>13.717514</td>\n",
       "      <td>36.721283</td>\n",
       "      <td>3.120179</td>\n",
       "      <td>581.852344</td>\n",
       "    </tr>\n",
       "    <tr>\n",
       "      <th>4</th>\n",
       "      <td>mstephens@davidson-herman.com</td>\n",
       "      <td>14023 Rodriguez Passage\\nPort Jacobville, PR 3...</td>\n",
       "      <td>MediumAquaMarine</td>\n",
       "      <td>33.330673</td>\n",
       "      <td>12.795189</td>\n",
       "      <td>37.536653</td>\n",
       "      <td>4.446308</td>\n",
       "      <td>599.406092</td>\n",
       "    </tr>\n",
       "    <tr>\n",
       "      <th>...</th>\n",
       "      <td>...</td>\n",
       "      <td>...</td>\n",
       "      <td>...</td>\n",
       "      <td>...</td>\n",
       "      <td>...</td>\n",
       "      <td>...</td>\n",
       "      <td>...</td>\n",
       "      <td>...</td>\n",
       "    </tr>\n",
       "    <tr>\n",
       "      <th>495</th>\n",
       "      <td>lewisjessica@craig-evans.com</td>\n",
       "      <td>4483 Jones Motorway Suite 872\\nLake Jamiefurt,...</td>\n",
       "      <td>Tan</td>\n",
       "      <td>33.237660</td>\n",
       "      <td>13.566160</td>\n",
       "      <td>36.417985</td>\n",
       "      <td>3.746573</td>\n",
       "      <td>573.847438</td>\n",
       "    </tr>\n",
       "    <tr>\n",
       "      <th>496</th>\n",
       "      <td>katrina56@gmail.com</td>\n",
       "      <td>172 Owen Divide Suite 497\\nWest Richard, CA 19320</td>\n",
       "      <td>PaleVioletRed</td>\n",
       "      <td>34.702529</td>\n",
       "      <td>11.695736</td>\n",
       "      <td>37.190268</td>\n",
       "      <td>3.576526</td>\n",
       "      <td>529.049004</td>\n",
       "    </tr>\n",
       "    <tr>\n",
       "      <th>497</th>\n",
       "      <td>dale88@hotmail.com</td>\n",
       "      <td>0787 Andrews Ranch Apt. 633\\nSouth Chadburgh, ...</td>\n",
       "      <td>Cornsilk</td>\n",
       "      <td>32.646777</td>\n",
       "      <td>11.499409</td>\n",
       "      <td>38.332576</td>\n",
       "      <td>4.958264</td>\n",
       "      <td>551.620145</td>\n",
       "    </tr>\n",
       "    <tr>\n",
       "      <th>498</th>\n",
       "      <td>cwilson@hotmail.com</td>\n",
       "      <td>680 Jennifer Lodge Apt. 808\\nBrendachester, TX...</td>\n",
       "      <td>Teal</td>\n",
       "      <td>33.322501</td>\n",
       "      <td>12.391423</td>\n",
       "      <td>36.840086</td>\n",
       "      <td>2.336485</td>\n",
       "      <td>456.469510</td>\n",
       "    </tr>\n",
       "    <tr>\n",
       "      <th>499</th>\n",
       "      <td>hannahwilson@davidson.com</td>\n",
       "      <td>49791 Rachel Heights Apt. 898\\nEast Drewboroug...</td>\n",
       "      <td>DarkMagenta</td>\n",
       "      <td>33.715981</td>\n",
       "      <td>12.418808</td>\n",
       "      <td>35.771016</td>\n",
       "      <td>2.735160</td>\n",
       "      <td>497.778642</td>\n",
       "    </tr>\n",
       "  </tbody>\n",
       "</table>\n",
       "<p>500 rows × 8 columns</p>\n",
       "</div>"
      ],
      "text/plain": [
       "                             Email  \\\n",
       "0        mstephenson@fernandez.com   \n",
       "1                hduke@hotmail.com   \n",
       "2                 pallen@yahoo.com   \n",
       "3          riverarebecca@gmail.com   \n",
       "4    mstephens@davidson-herman.com   \n",
       "..                             ...   \n",
       "495   lewisjessica@craig-evans.com   \n",
       "496            katrina56@gmail.com   \n",
       "497             dale88@hotmail.com   \n",
       "498            cwilson@hotmail.com   \n",
       "499      hannahwilson@davidson.com   \n",
       "\n",
       "                                               Address            Avatar  \\\n",
       "0         835 Frank Tunnel\\nWrightmouth, MI 82180-9605            Violet   \n",
       "1       4547 Archer Common\\nDiazchester, CA 06566-8576         DarkGreen   \n",
       "2    24645 Valerie Unions Suite 582\\nCobbborough, D...            Bisque   \n",
       "3     1414 David Throughway\\nPort Jason, OH 22070-1220       SaddleBrown   \n",
       "4    14023 Rodriguez Passage\\nPort Jacobville, PR 3...  MediumAquaMarine   \n",
       "..                                                 ...               ...   \n",
       "495  4483 Jones Motorway Suite 872\\nLake Jamiefurt,...               Tan   \n",
       "496  172 Owen Divide Suite 497\\nWest Richard, CA 19320     PaleVioletRed   \n",
       "497  0787 Andrews Ranch Apt. 633\\nSouth Chadburgh, ...          Cornsilk   \n",
       "498  680 Jennifer Lodge Apt. 808\\nBrendachester, TX...              Teal   \n",
       "499  49791 Rachel Heights Apt. 898\\nEast Drewboroug...       DarkMagenta   \n",
       "\n",
       "     Avg. Session Length  Time on App  Time on Website  Length of Membership  \\\n",
       "0              34.497268    12.655651        39.577668              4.082621   \n",
       "1              31.926272    11.109461        37.268959              2.664034   \n",
       "2              33.000915    11.330278        37.110597              4.104543   \n",
       "3              34.305557    13.717514        36.721283              3.120179   \n",
       "4              33.330673    12.795189        37.536653              4.446308   \n",
       "..                   ...          ...              ...                   ...   \n",
       "495            33.237660    13.566160        36.417985              3.746573   \n",
       "496            34.702529    11.695736        37.190268              3.576526   \n",
       "497            32.646777    11.499409        38.332576              4.958264   \n",
       "498            33.322501    12.391423        36.840086              2.336485   \n",
       "499            33.715981    12.418808        35.771016              2.735160   \n",
       "\n",
       "     Yearly Amount Spent  \n",
       "0             587.951054  \n",
       "1             392.204933  \n",
       "2             487.547505  \n",
       "3             581.852344  \n",
       "4             599.406092  \n",
       "..                   ...  \n",
       "495           573.847438  \n",
       "496           529.049004  \n",
       "497           551.620145  \n",
       "498           456.469510  \n",
       "499           497.778642  \n",
       "\n",
       "[500 rows x 8 columns]"
      ]
     },
     "execution_count": 4,
     "metadata": {},
     "output_type": "execute_result"
    }
   ],
   "source": [
    "df"
   ]
  },
  {
   "cell_type": "code",
   "execution_count": 5,
   "metadata": {},
   "outputs": [],
   "source": [
    "x = df['Yearly Amount Spent'].values\n",
    "y = df['Length of Membership'].values"
   ]
  },
  {
   "cell_type": "code",
   "execution_count": 6,
   "metadata": {},
   "outputs": [
    {
     "data": {
      "text/plain": [
       "array([587.95105397, 392.20493344, 487.54750487, 581.85234404,\n",
       "       599.40609205, 637.10244792, 521.57217476, 549.90414611,\n",
       "       570.20040896, 427.1993849 , 492.60601272, 522.33740461,\n",
       "       408.64035107, 573.41586733, 470.4527333 , 461.7807422 ,\n",
       "       457.84769594, 407.70454755, 452.31567548, 605.0610388 ,\n",
       "       534.70574381, 419.93877484, 436.51560573, 519.34098913,\n",
       "       700.91709162, 423.17999168, 619.89563986, 486.83893477,\n",
       "       529.53766534, 554.72208383, 497.5866713 , 447.68790654,\n",
       "       588.71260551, 491.07322368, 507.44183234, 521.88357317,\n",
       "       347.77692663, 490.73863214, 478.17033405, 537.84619527,\n",
       "       532.75178758, 501.87443028, 591.19717818, 547.24434342,\n",
       "       448.22982919, 549.86059046, 593.91500297, 563.67287336,\n",
       "       479.73194909, 416.35835358, 725.58481406, 442.66725174,\n",
       "       384.62657157, 451.45744687, 522.40414126, 483.67330802,\n",
       "       520.89879445, 453.16950235, 496.65070807, 547.36514059,\n",
       "       616.85152297, 507.212569  , 613.59932337, 483.15972078,\n",
       "       540.26340041, 765.51846194, 553.60153468, 469.3108615 ,\n",
       "       408.62018783, 451.57568516, 444.96655165, 595.8228367 ,\n",
       "       418.1500811 , 534.7771881 , 578.24160506, 478.71935687,\n",
       "       444.2859075 , 544.77986372, 488.78606109, 475.75906779,\n",
       "       489.812488  , 462.89763615, 596.43017262, 338.31986264,\n",
       "       533.51493526, 536.77189936, 487.37930602, 473.72896651,\n",
       "       547.12593175, 505.11334354, 449.07031944, 611.0000251 ,\n",
       "       515.82881485, 439.07476674, 514.08895775, 543.34016626,\n",
       "       521.14295181, 614.71533383, 507.39006179, 495.29944255,\n",
       "       518.06455798, 390.10327297, 420.73767324, 492.10505239,\n",
       "       410.06961106, 497.51368333, 494.55186109, 378.33090691,\n",
       "       570.45172591, 549.00822693, 459.28512346, 492.94505307,\n",
       "       424.76263551, 422.42677588, 642.10157873, 413.37178311,\n",
       "       479.23109291, 593.07724134, 506.54730705, 571.30749488,\n",
       "       576.31117737, 576.8025474 , 514.23952072, 495.17595045,\n",
       "       514.33655827, 541.22658399, 516.83155668, 468.44573723,\n",
       "       548.2803202 , 431.61773376, 552.94034545, 573.30622226,\n",
       "       452.627255  , 542.7115581 , 407.80403064, 482.35357032,\n",
       "       529.23009012, 433.0487691 , 476.19141335, 439.99787994,\n",
       "       448.93329321, 472.99224667, 463.92351299, 350.05820016,\n",
       "       460.06127739, 505.77114032, 463.4849954 , 479.73193765,\n",
       "       424.18549429, 465.88931271, 426.77521599, 684.16343102,\n",
       "       555.89259539, 657.01992394, 595.80381888, 503.97837905,\n",
       "       586.15587018, 744.2218671 , 512.82535813, 528.22380937,\n",
       "       468.91350132, 357.59143942, 536.42310453, 490.20659998,\n",
       "       550.04758058, 513.45057119, 497.81193001, 578.98625858,\n",
       "       506.53639314, 501.74923331, 421.96679419, 439.89128048,\n",
       "       666.12559173, 298.76200786, 465.17662331, 373.8857237 ,\n",
       "       532.71748568, 554.90078302, 537.77316254, 501.10024523,\n",
       "       517.16513559, 557.52927361, 493.71919298, 452.12262509,\n",
       "       577.27345498, 485.92313052, 425.74509203, 537.2150527 ,\n",
       "       524.63796461, 478.88539132, 612.3852299 , 476.76672415,\n",
       "       505.11963753, 545.94549214, 434.02169975, 424.67528101,\n",
       "       352.55010816, 662.96108781, 560.56016062, 467.50190043,\n",
       "       504.87043239, 590.56271965, 443.96562681, 392.49739919,\n",
       "       568.71757593, 712.39632681, 413.29599918, 562.08204539,\n",
       "       412.0129313 , 468.6684656 , 496.55408164, 548.51852928,\n",
       "       536.13089686, 558.42725718, 357.86371864, 529.0566632 ,\n",
       "       387.35707274, 528.93361857, 420.91615953, 496.93344626,\n",
       "       519.3729768 , 591.43773557, 502.4097853 , 604.33484007,\n",
       "       555.06839405, 256.67058229, 547.11098236, 461.92087689,\n",
       "       458.37691065, 436.28349815, 532.93521884, 512.55253436,\n",
       "       630.42276323, 463.74598112, 493.18021625, 501.20917268,\n",
       "       501.92826487, 376.33690076, 421.32663126, 538.77493348,\n",
       "       398.16346853, 571.47103412, 451.62861054, 490.6004425 ,\n",
       "       591.78108943, 409.07047205, 563.44603567, 647.61945573,\n",
       "       448.34042501, 518.78648309, 523.63393514, 393.85737099,\n",
       "       426.15454771, 503.38788729, 482.60246733, 524.79762757,\n",
       "       574.65484337, 574.74721966, 660.42518429, 375.39845541,\n",
       "       640.18774001, 514.00981785, 376.49684072, 484.51980911,\n",
       "       614.72963763, 567.47501053, 554.00309343, 399.9838716 ,\n",
       "       479.17285149, 585.9318443 , 540.99573911, 628.04780393,\n",
       "       582.49192373, 640.7861664 , 446.41867337, 570.63009809,\n",
       "       423.3083341 , 616.66028602, 530.36246889, 442.36311738,\n",
       "       511.97985999, 560.44379217, 475.26342373, 374.26967454,\n",
       "       463.59141803, 471.60288439, 626.01867266, 432.47206125,\n",
       "       356.61556789, 467.4278485 , 503.21739312, 378.47356645,\n",
       "       584.21831349, 451.72786332, 557.634109  , 432.72071784,\n",
       "       506.42385997, 510.15981728, 587.57479948, 282.47124572,\n",
       "       473.94985742, 489.9080531 , 541.97220376, 266.08634095,\n",
       "       494.68715581, 689.78760417, 387.53471631, 441.89663152,\n",
       "       604.84131882, 302.18954781, 479.61481167, 506.13234244,\n",
       "       319.9288698 , 528.30922503, 610.12803313, 584.10588505,\n",
       "       466.42119882, 404.82452887, 564.79096901, 596.51669797,\n",
       "       368.65478495, 542.41247673, 478.2621264 , 473.36049557,\n",
       "       559.19904795, 447.18764431, 505.23006828, 557.25268675,\n",
       "       422.36873661, 445.06218551, 442.06441376, 533.04006018,\n",
       "       424.2028271 , 498.63559849, 330.59444603, 443.44186006,\n",
       "       478.60091594, 440.00274755, 357.78311075, 476.13924687,\n",
       "       501.1224915 , 592.6884532 , 486.0834255 , 576.02524413,\n",
       "       442.72289157, 461.79095906, 488.38752578, 593.15640148,\n",
       "       392.81034498, 443.19722103, 535.48077519, 533.39655379,\n",
       "       532.12744911, 558.94811239, 508.77190674, 403.7669021 ,\n",
       "       640.5840619 , 461.62827839, 382.41610787, 561.87465767,\n",
       "       444.57614413, 401.03313522, 384.32605714, 527.78299576,\n",
       "       482.14499688, 594.27448342, 502.0925279 , 407.65717876,\n",
       "       708.93518487, 531.96155055, 521.24078024, 447.3690272 ,\n",
       "       385.15233799, 430.58888256, 418.6027421 , 478.95140476,\n",
       "       483.79652206, 538.94197453, 486.16379907, 385.09500707,\n",
       "       527.78378976, 547.19074935, 410.60294395, 583.97780197,\n",
       "       474.53232944, 414.93506065, 550.81336773, 458.78113168,\n",
       "       407.54216801, 581.30893288, 546.55666686, 503.17508519,\n",
       "       549.13157329, 482.83098586, 557.60826205, 484.87696494,\n",
       "       669.9871405 , 547.70998858, 537.8252823 , 408.21690177,\n",
       "       663.07481761, 506.37586675, 528.4193297 , 632.12358814,\n",
       "       488.27029797, 508.73574095, 411.18696357, 409.09452619,\n",
       "       467.80092437, 512.16586639, 608.27181662, 589.02648976,\n",
       "       444.05382657, 493.18126139, 532.72480546, 275.91842065,\n",
       "       511.03878605, 438.41774201, 475.72506791, 483.54319387,\n",
       "       663.80369328, 544.40927216, 630.15672817, 461.11224843,\n",
       "       491.9115051 , 574.41568961, 530.76671865, 581.79879768,\n",
       "       556.29814117, 502.13278923, 556.18636887, 475.0716299 ,\n",
       "       486.94705384, 434.14420203, 304.13559158, 571.21600483,\n",
       "       583.07963566, 445.74984124, 392.99225591, 565.9943634 ,\n",
       "       499.14015245, 510.5394217 , 308.52774656, 561.51653198,\n",
       "       423.47053317, 513.15311185, 529.19451886, 314.4385183 ,\n",
       "       478.58428601, 444.58216498, 475.01540709, 436.72055586,\n",
       "       521.19531053, 478.18305971, 432.48116856, 438.30370785,\n",
       "       388.94054879, 534.77148495, 537.91575292, 407.87637822,\n",
       "       618.84597042, 502.77107457, 397.4205841 , 392.28524425,\n",
       "       689.23569976, 543.13262629, 577.73602485, 436.58074035,\n",
       "       553.99467359, 427.3565308 , 424.72877393, 541.04983096,\n",
       "       469.38314617, 444.54554965, 492.5568337 , 535.32161009,\n",
       "       408.95833594, 487.55545806, 487.64623174, 402.16712222,\n",
       "       551.0230017 , 497.38955776, 494.63860976, 479.24741678,\n",
       "       462.65651893, 515.50247966, 576.47760717, 357.85798361,\n",
       "       597.73987888, 327.37795259, 510.40138845, 510.50147847,\n",
       "       403.81951983, 627.60331871, 510.66179222, 573.84743772,\n",
       "       529.04900413, 551.62014548, 456.46951007, 497.77864222])"
      ]
     },
     "execution_count": 6,
     "metadata": {},
     "output_type": "execute_result"
    }
   ],
   "source": [
    "x"
   ]
  },
  {
   "cell_type": "code",
   "execution_count": 7,
   "metadata": {},
   "outputs": [
    {
     "data": {
      "text/plain": [
       "Text(0, 0.5, 'Length of Membership')"
      ]
     },
     "execution_count": 7,
     "metadata": {},
     "output_type": "execute_result"
    },
    {
     "data": {
      "image/png": "[encoded data removed]",
      "text/plain": [
       "<Figure size 432x288 with 1 Axes>"
      ]
     },
     "metadata": {
      "needs_background": "light"
     },
     "output_type": "display_data"
    }
   ],
   "source": [
    "plt.plot(x,y,'o')\n",
    "plt.xlabel('Yearly Amount Spent')\n",
    "plt.ylabel('Length of Membership')"
   ]
  },
  {
   "cell_type": "code",
   "execution_count": 8,
   "metadata": {},
   "outputs": [
    {
     "data": {
      "text/plain": [
       "(500,)"
      ]
     },
     "execution_count": 8,
     "metadata": {},
     "output_type": "execute_result"
    }
   ],
   "source": [
    "x.shape"
   ]
  },
  {
   "cell_type": "code",
   "execution_count": 9,
   "metadata": {},
   "outputs": [],
   "source": [
    "x_b=np.c_[np.ones((500,1)),x]\n"
   ]
  },
  {
   "cell_type": "code",
   "execution_count": 10,
   "metadata": {},
   "outputs": [
    {
     "data": {
      "text/plain": [
       "array([-1.5563199 ,  0.01019355])"
      ]
     },
     "execution_count": 10,
     "metadata": {},
     "output_type": "execute_result"
    }
   ],
   "source": [
    "theta = np.linalg.inv(x_b.T.dot(x_b)).dot(x_b.T.dot(y))\n",
    "theta"
   ]
  },
  {
   "cell_type": "code",
   "execution_count": 11,
   "metadata": {},
   "outputs": [
    {
     "data": {
      "text/plain": [
       "array([[  1.,   0.],\n",
       "       [  1., 800.]])"
      ]
     },
     "execution_count": 11,
     "metadata": {},
     "output_type": "execute_result"
    }
   ],
   "source": [
    "\n",
    "x_predict=np.array([[0],[800]])\n",
    "x_predict_b=np.c_[np.ones((2,1)),x_predict]\n",
    "x_predict_b"
   ]
  },
  {
   "cell_type": "code",
   "execution_count": 12,
   "metadata": {},
   "outputs": [],
   "source": [
    "def pred(x):\n",
    "\n",
    "    x_predict_b=np.c_[np.ones((1,1)),x]\n",
    "\n",
    "    y_predict=x_predict_b.dot(theta)\n",
    "    return y_predict"
   ]
  },
  {
   "cell_type": "code",
   "execution_count": 13,
   "metadata": {},
   "outputs": [
    {
     "data": {
      "text/plain": [
       "Text(0, 0.5, 'Length of Membership')"
      ]
     },
     "execution_count": 13,
     "metadata": {},
     "output_type": "execute_result"
    },
    {
     "data": {
      "image/png": "[encoded data removed]",
      "text/plain": [
       "<Figure size 432x288 with 1 Axes>"
      ]
     },
     "metadata": {
      "needs_background": "light"
     },
     "output_type": "display_data"
    }
   ],
   "source": [
    "y_predict=x_predict_b.dot(theta)\n",
    "plt.plot(x_predict,y_predict,'r-')\n",
    "plt.plot(x,y,'o')\n",
    "plt.xlabel('Yearly Amount Spent')\n",
    "plt.ylabel('Length of Membership')"
   ]
  },
  {
   "cell_type": "code",
   "execution_count": 14,
   "metadata": {},
   "outputs": [
    {
     "name": "stdout",
     "output_type": "stream",
     "text": [
      "[0.99206702]\n"
     ]
    }
   ],
   "source": [
    "print (pred(250))"
   ]
  },
  {
   "cell_type": "code",
   "execution_count": 15,
   "metadata": {},
   "outputs": [
    {
     "name": "stdout",
     "output_type": "stream",
     "text": [
      "(500,)\n",
      "(500,)\n"
     ]
    }
   ],
   "source": [
    "print (x.shape) \n",
    "print(y.shape)"
   ]
  },
  {
   "cell_type": "code",
   "execution_count": 16,
   "metadata": {},
   "outputs": [
    {
     "data": {
      "text/plain": [
       "array([587.95105397, 392.20493344, 487.54750487, 581.85234404,\n",
       "       599.40609205, 637.10244792, 521.57217476, 549.90414611,\n",
       "       570.20040896, 427.1993849 , 492.60601272, 522.33740461,\n",
       "       408.64035107, 573.41586733, 470.4527333 , 461.7807422 ,\n",
       "       457.84769594, 407.70454755, 452.31567548, 605.0610388 ,\n",
       "       534.70574381, 419.93877484, 436.51560573, 519.34098913,\n",
       "       700.91709162, 423.17999168, 619.89563986, 486.83893477,\n",
       "       529.53766534, 554.72208383, 497.5866713 , 447.68790654,\n",
       "       588.71260551, 491.07322368, 507.44183234, 521.88357317,\n",
       "       347.77692663, 490.73863214, 478.17033405, 537.84619527,\n",
       "       532.75178758, 501.87443028, 591.19717818, 547.24434342,\n",
       "       448.22982919, 549.86059046, 593.91500297, 563.67287336,\n",
       "       479.73194909, 416.35835358, 725.58481406, 442.66725174,\n",
       "       384.62657157, 451.45744687, 522.40414126, 483.67330802,\n",
       "       520.89879445, 453.16950235, 496.65070807, 547.36514059,\n",
       "       616.85152297, 507.212569  , 613.59932337, 483.15972078,\n",
       "       540.26340041, 765.51846194, 553.60153468, 469.3108615 ,\n",
       "       408.62018783, 451.57568516, 444.96655165, 595.8228367 ,\n",
       "       418.1500811 , 534.7771881 , 578.24160506, 478.71935687,\n",
       "       444.2859075 , 544.77986372, 488.78606109, 475.75906779,\n",
       "       489.812488  , 462.89763615, 596.43017262, 338.31986264,\n",
       "       533.51493526, 536.77189936, 487.37930602, 473.72896651,\n",
       "       547.12593175, 505.11334354, 449.07031944, 611.0000251 ,\n",
       "       515.82881485, 439.07476674, 514.08895775, 543.34016626,\n",
       "       521.14295181, 614.71533383, 507.39006179, 495.29944255,\n",
       "       518.06455798, 390.10327297, 420.73767324, 492.10505239,\n",
       "       410.06961106, 497.51368333, 494.55186109, 378.33090691,\n",
       "       570.45172591, 549.00822693, 459.28512346, 492.94505307,\n",
       "       424.76263551, 422.42677588, 642.10157873, 413.37178311,\n",
       "       479.23109291, 593.07724134, 506.54730705, 571.30749488,\n",
       "       576.31117737, 576.8025474 , 514.23952072, 495.17595045,\n",
       "       514.33655827, 541.22658399, 516.83155668, 468.44573723,\n",
       "       548.2803202 , 431.61773376, 552.94034545, 573.30622226,\n",
       "       452.627255  , 542.7115581 , 407.80403064, 482.35357032,\n",
       "       529.23009012, 433.0487691 , 476.19141335, 439.99787994,\n",
       "       448.93329321, 472.99224667, 463.92351299, 350.05820016,\n",
       "       460.06127739, 505.77114032, 463.4849954 , 479.73193765,\n",
       "       424.18549429, 465.88931271, 426.77521599, 684.16343102,\n",
       "       555.89259539, 657.01992394, 595.80381888, 503.97837905,\n",
       "       586.15587018, 744.2218671 , 512.82535813, 528.22380937,\n",
       "       468.91350132, 357.59143942, 536.42310453, 490.20659998,\n",
       "       550.04758058, 513.45057119, 497.81193001, 578.98625858,\n",
       "       506.53639314, 501.74923331, 421.96679419, 439.89128048,\n",
       "       666.12559173, 298.76200786, 465.17662331, 373.8857237 ,\n",
       "       532.71748568, 554.90078302, 537.77316254, 501.10024523,\n",
       "       517.16513559, 557.52927361, 493.71919298, 452.12262509,\n",
       "       577.27345498, 485.92313052, 425.74509203, 537.2150527 ,\n",
       "       524.63796461, 478.88539132, 612.3852299 , 476.76672415,\n",
       "       505.11963753, 545.94549214, 434.02169975, 424.67528101,\n",
       "       352.55010816, 662.96108781, 560.56016062, 467.50190043,\n",
       "       504.87043239, 590.56271965, 443.96562681, 392.49739919,\n",
       "       568.71757593, 712.39632681, 413.29599918, 562.08204539,\n",
       "       412.0129313 , 468.6684656 , 496.55408164, 548.51852928,\n",
       "       536.13089686, 558.42725718, 357.86371864, 529.0566632 ,\n",
       "       387.35707274, 528.93361857, 420.91615953, 496.93344626,\n",
       "       519.3729768 , 591.43773557, 502.4097853 , 604.33484007,\n",
       "       555.06839405, 256.67058229, 547.11098236, 461.92087689,\n",
       "       458.37691065, 436.28349815, 532.93521884, 512.55253436,\n",
       "       630.42276323, 463.74598112, 493.18021625, 501.20917268,\n",
       "       501.92826487, 376.33690076, 421.32663126, 538.77493348,\n",
       "       398.16346853, 571.47103412, 451.62861054, 490.6004425 ,\n",
       "       591.78108943, 409.07047205, 563.44603567, 647.61945573,\n",
       "       448.34042501, 518.78648309, 523.63393514, 393.85737099,\n",
       "       426.15454771, 503.38788729, 482.60246733, 524.79762757,\n",
       "       574.65484337, 574.74721966, 660.42518429, 375.39845541,\n",
       "       640.18774001, 514.00981785, 376.49684072, 484.51980911,\n",
       "       614.72963763, 567.47501053, 554.00309343, 399.9838716 ,\n",
       "       479.17285149, 585.9318443 , 540.99573911, 628.04780393,\n",
       "       582.49192373, 640.7861664 , 446.41867337, 570.63009809,\n",
       "       423.3083341 , 616.66028602, 530.36246889, 442.36311738,\n",
       "       511.97985999, 560.44379217, 475.26342373, 374.26967454,\n",
       "       463.59141803, 471.60288439, 626.01867266, 432.47206125,\n",
       "       356.61556789, 467.4278485 , 503.21739312, 378.47356645,\n",
       "       584.21831349, 451.72786332, 557.634109  , 432.72071784,\n",
       "       506.42385997, 510.15981728, 587.57479948, 282.47124572,\n",
       "       473.94985742, 489.9080531 , 541.97220376, 266.08634095,\n",
       "       494.68715581, 689.78760417, 387.53471631, 441.89663152,\n",
       "       604.84131882, 302.18954781, 479.61481167, 506.13234244,\n",
       "       319.9288698 , 528.30922503, 610.12803313, 584.10588505,\n",
       "       466.42119882, 404.82452887, 564.79096901, 596.51669797,\n",
       "       368.65478495, 542.41247673, 478.2621264 , 473.36049557,\n",
       "       559.19904795, 447.18764431, 505.23006828, 557.25268675,\n",
       "       422.36873661, 445.06218551, 442.06441376, 533.04006018,\n",
       "       424.2028271 , 498.63559849, 330.59444603, 443.44186006,\n",
       "       478.60091594, 440.00274755, 357.78311075, 476.13924687,\n",
       "       501.1224915 , 592.6884532 , 486.0834255 , 576.02524413,\n",
       "       442.72289157, 461.79095906, 488.38752578, 593.15640148,\n",
       "       392.81034498, 443.19722103, 535.48077519, 533.39655379,\n",
       "       532.12744911, 558.94811239, 508.77190674, 403.7669021 ,\n",
       "       640.5840619 , 461.62827839, 382.41610787, 561.87465767,\n",
       "       444.57614413, 401.03313522, 384.32605714, 527.78299576,\n",
       "       482.14499688, 594.27448342, 502.0925279 , 407.65717876,\n",
       "       708.93518487, 531.96155055, 521.24078024, 447.3690272 ,\n",
       "       385.15233799, 430.58888256, 418.6027421 , 478.95140476,\n",
       "       483.79652206, 538.94197453, 486.16379907, 385.09500707,\n",
       "       527.78378976, 547.19074935, 410.60294395, 583.97780197,\n",
       "       474.53232944, 414.93506065, 550.81336773, 458.78113168,\n",
       "       407.54216801, 581.30893288, 546.55666686, 503.17508519,\n",
       "       549.13157329, 482.83098586, 557.60826205, 484.87696494,\n",
       "       669.9871405 , 547.70998858, 537.8252823 , 408.21690177,\n",
       "       663.07481761, 506.37586675, 528.4193297 , 632.12358814,\n",
       "       488.27029797, 508.73574095, 411.18696357, 409.09452619,\n",
       "       467.80092437, 512.16586639, 608.27181662, 589.02648976,\n",
       "       444.05382657, 493.18126139, 532.72480546, 275.91842065,\n",
       "       511.03878605, 438.41774201, 475.72506791, 483.54319387,\n",
       "       663.80369328, 544.40927216, 630.15672817, 461.11224843,\n",
       "       491.9115051 , 574.41568961, 530.76671865, 581.79879768,\n",
       "       556.29814117, 502.13278923, 556.18636887, 475.0716299 ,\n",
       "       486.94705384, 434.14420203, 304.13559158, 571.21600483,\n",
       "       583.07963566, 445.74984124, 392.99225591, 565.9943634 ,\n",
       "       499.14015245, 510.5394217 , 308.52774656, 561.51653198,\n",
       "       423.47053317, 513.15311185, 529.19451886, 314.4385183 ,\n",
       "       478.58428601, 444.58216498, 475.01540709, 436.72055586,\n",
       "       521.19531053, 478.18305971, 432.48116856, 438.30370785,\n",
       "       388.94054879, 534.77148495, 537.91575292, 407.87637822,\n",
       "       618.84597042, 502.77107457, 397.4205841 , 392.28524425,\n",
       "       689.23569976, 543.13262629, 577.73602485, 436.58074035,\n",
       "       553.99467359, 427.3565308 , 424.72877393, 541.04983096,\n",
       "       469.38314617, 444.54554965, 492.5568337 , 535.32161009,\n",
       "       408.95833594, 487.55545806, 487.64623174, 402.16712222,\n",
       "       551.0230017 , 497.38955776, 494.63860976, 479.24741678,\n",
       "       462.65651893, 515.50247966, 576.47760717, 357.85798361,\n",
       "       597.73987888, 327.37795259, 510.40138845, 510.50147847,\n",
       "       403.81951983, 627.60331871, 510.66179222, 573.84743772,\n",
       "       529.04900413, 551.62014548, 456.46951007, 497.77864222])"
      ]
     },
     "execution_count": 16,
     "metadata": {},
     "output_type": "execute_result"
    }
   ],
   "source": [
    "x"
   ]
  },
  {
   "cell_type": "code",
   "execution_count": 19,
   "metadata": {},
   "outputs": [
    {
     "name": "stdout",
     "output_type": "stream",
     "text": [
      "[[0.01019355]]\n",
      "[-1.5563199]\n"
     ]
    }
   ],
   "source": [
    "from sklearn.linear_model import LinearRegression\n",
    "X = x.reshape(-1, 1)\n",
    "Y = y.reshape(-1, 1)\n",
    "\n",
    "lr = LinearRegression()\n",
    "lr.fit(X,Y)\n",
    "print(lr.coef_)\n",
    "print(lr.intercept_)"
   ]
  },
  {
   "cell_type": "code",
   "execution_count": 18,
   "metadata": {},
   "outputs": [
    {
     "data": {
      "text/plain": [
       "array([[0.99206702]])"
      ]
     },
     "execution_count": 18,
     "metadata": {},
     "output_type": "execute_result"
    }
   ],
   "source": [
    "lr.predict([[250]])"
   ]
  }
 ],
 "metadata": {
  "interpreter": {
   "hash": "817775b52db1653991b8eead0337b5f576be1e32f04818ee03b008d3f723b26f"
  },
  "kernelspec": {
   "display_name": "Python 3.10.4 64-bit",
   "language": "python",
   "name": "python3"
  },
  "language_info": {
   "codemirror_mode": {
    "name": "ipython",
    "version": 3
   },
   "file_extension": ".py",
   "mimetype": "text/x-python",
   "name": "python",
   "nbconvert_exporter": "python",
   "pygments_lexer": "ipython3",
   "version": "3.10.4"
  },
  "orig_nbformat": 4
 },
 "nbformat": 4,
 "nbformat_minor": 2
}
