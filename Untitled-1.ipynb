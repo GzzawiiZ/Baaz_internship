{
 "cells": [
  {
   "cell_type": "code",
   "execution_count": 5,
   "metadata": {},
   "outputs": [],
   "source": [
    "import numpy as np\n",
    "import pandas as pd\n",
    "import matplotlib.pyplot as plt\n",
    "import random"
   ]
  },
  {
   "cell_type": "code",
   "execution_count": 6,
   "metadata": {},
   "outputs": [],
   "source": [
    "df = pd.read_csv(r\"C:\\Users\\gzzaw\\Downloads/mtcars.csv\")"
   ]
  },
  {
   "cell_type": "code",
   "execution_count": 7,
   "metadata": {},
   "outputs": [
    {
     "data": {
      "text/plain": [
       "<matplotlib.collections.PathCollection at 0x2a5d99b0c70>"
      ]
     },
     "execution_count": 7,
     "metadata": {},
     "output_type": "execute_result"
    },
    {
     "data": {
      "image/png": "[encoded data removed]",
      "text/plain": [
       "<Figure size 432x288 with 1 Axes>"
      ]
     },
     "metadata": {
      "needs_background": "light"
     },
     "output_type": "display_data"
    }
   ],
   "source": [
    "plt.scatter(df['wt'].to_numpy(),df['mpg'].to_numpy())"
   ]
  },
  {
   "cell_type": "code",
   "execution_count": 8,
   "metadata": {},
   "outputs": [],
   "source": [
    "def data_iterator(features, labels):\n",
    "    num_examples = len(features)\n",
    "    indices = list(range(num_examples))\n",
    "    random.shuffle(indices)\n",
    "    yield features, labels\n",
    "\n",
    "def linreg(X, w, b):\n",
    "    return np.dot(X, w) + b\n",
    "\n",
    "def sgd(w, b, lr,l1,X):\n",
    "    batch_size = len(X)\n",
    "    b = b - lr * np.sum(l1) / batch_size\n",
    "    w = w - lr * np.dot(X.T,l1) / batch_size\n",
    "    return w,b\n",
    "\n",
    "def squared_loss(y_hat, y):\n",
    "    return (y_hat - y.reshape(y_hat.shape)) ** 2 / 2\n",
    "\n",
    "def loss(y_hat, y):\n",
    "    return (y_hat - y.reshape(y_hat.shape))"
   ]
  },
  {
   "cell_type": "code",
   "execution_count": 9,
   "metadata": {},
   "outputs": [],
   "source": [
    "lr = 0.1 #learning rate for gradient descent\n",
    "num_epochs = 500 #no of epochs for which we will train\n",
    "\n",
    "def myFnLinReg(X_1, y_1):\n",
    "    cost_func_graph = []\n",
    "    w = np.random.normal(0, 0.01, (1, 1))\n",
    "    b = np.zeros(1)\n",
    "    for epoch in range(num_epochs):\n",
    "        for X, y in data_iterator(X_1, y_1):\n",
    "            l = squared_loss(linreg(X, w, b), y)  \n",
    "            l1 = loss(linreg(X, w, b), y)\n",
    "            l2 = np.sum(l1)\n",
    "            w,b = sgd(w, b, lr,l1,X)\n",
    "        cost_func_graph.append(float(squared_loss(linreg(X, w, b), y).mean()))\n",
    "        if epoch%20 == 0:\n",
    "            train_l = loss(linreg(X_1, w, b), y_1)\n",
    "            train_l2 = squared_loss(linreg(X, w, b), y)\n",
    "            print(f'epoch {epoch + 1}, loss {float(train_l.mean()):f},cost/loss-mse {float(train_l2.mean()):f}')\n",
    "    arr = np.array(cost_func_graph)\n",
    "    print(arr.shape)\n",
    "    plt.plot(arr)\n",
    "    plt.show()\n",
    "    return w,b"
   ]
  },
  {
   "cell_type": "code",
   "execution_count": 10,
   "metadata": {},
   "outputs": [],
   "source": [
    "X_1 = df['wt'].to_numpy().reshape(-1,1)\n",
    "y_1 = df['mpg'].to_numpy().reshape(-1,1)"
   ]
  },
  {
   "cell_type": "code",
   "execution_count": 11,
   "metadata": {},
   "outputs": [],
   "source": [
    "from sklearn.model_selection import train_test_split\n",
    "X_train, X_test, y_train, y_test = train_test_split(X_1, y_1, test_size=0.20, random_state=42)"
   ]
  },
  {
   "cell_type": "code",
   "execution_count": 12,
   "metadata": {},
   "outputs": [
    {
     "name": "stdout",
     "output_type": "stream",
     "text": [
      "epoch 1, loss 0.233598,cost/loss-mse 61.131882\n",
      "epoch 21, loss -2.348051,cost/loss-mse 42.225194\n",
      "epoch 41, loss -2.007289,cost/loss-mse 31.904931\n",
      "epoch 61, loss -1.715981,cost/loss-mse 24.362770\n",
      "epoch 81, loss -1.466949,cost/loss-mse 18.850877\n",
      "epoch 101, loss -1.254058,cost/loss-mse 14.822724\n",
      "epoch 121, loss -1.072062,cost/loss-mse 11.878906\n",
      "epoch 141, loss -0.916479,cost/loss-mse 9.727532\n",
      "epoch 161, loss -0.783475,cost/loss-mse 8.155284\n",
      "epoch 181, loss -0.669773,cost/loss-mse 7.006268\n",
      "epoch 201, loss -0.572572,cost/loss-mse 6.166555\n",
      "epoch 221, loss -0.489477,cost/loss-mse 5.552883\n",
      "epoch 241, loss -0.418442,cost/loss-mse 5.104405\n",
      "epoch 261, loss -0.357715,cost/loss-mse 4.776652\n",
      "epoch 281, loss -0.305802,cost/loss-mse 4.537127\n",
      "epoch 301, loss -0.261422,cost/loss-mse 4.362079\n",
      "epoch 321, loss -0.223483,cost/loss-mse 4.234152\n",
      "epoch 341, loss -0.191050,cost/loss-mse 4.140662\n",
      "epoch 361, loss -0.163324,cost/loss-mse 4.072338\n",
      "epoch 381, loss -0.139622,cost/loss-mse 4.022407\n",
      "epoch 401, loss -0.119359,cost/loss-mse 3.985916\n",
      "epoch 421, loss -0.102037,cost/loss-mse 3.959248\n",
      "epoch 441, loss -0.087229,cost/loss-mse 3.939759\n",
      "epoch 461, loss -0.074570,cost/loss-mse 3.925516\n",
      "epoch 481, loss -0.063748,cost/loss-mse 3.915107\n",
      "(500,)\n"
     ]
    },
    {
     "data": {
      "image/png": "[encoded data removed]",
      "text/plain": [
       "<Figure size 432x288 with 1 Axes>"
      ]
     },
     "metadata": {
      "needs_background": "light"
     },
     "output_type": "display_data"
    }
   ],
   "source": [
    "w1,b1 = myFnLinReg(X_train, y_train)"
   ]
  }
 ],
 "metadata": {
  "kernelspec": {
   "display_name": "Python 3.10.4 64-bit",
   "language": "python",
   "name": "python3"
  },
  "language_info": {
   "codemirror_mode": {
    "name": "ipython",
    "version": 3
   },
   "file_extension": ".py",
   "mimetype": "text/x-python",
   "name": "python",
   "nbconvert_exporter": "python",
   "pygments_lexer": "ipython3",
   "version": "3.10.4"
  },
  "orig_nbformat": 4,
  "vscode": {
   "interpreter": {
    "hash": "817775b52db1653991b8eead0337b5f576be1e32f04818ee03b008d3f723b26f"
   }
  }
 },
 "nbformat": 4,
 "nbformat_minor": 2
}
