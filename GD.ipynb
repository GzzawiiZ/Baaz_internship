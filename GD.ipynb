{
 "cells": [
  {
   "cell_type": "code",
   "execution_count": 2,
   "metadata": {},
   "outputs": [],
   "source": [
    "import numpy as np\n"
   ]
  },
  {
   "cell_type": "code",
   "execution_count": 3,
   "metadata": {},
   "outputs": [],
   "source": [
    "X=np.random.rand(100,1)\n",
    "Y=(np.random.rand(100,1))*3.76+np.random.random()"
   ]
  },
  {
   "cell_type": "code",
   "execution_count": 5,
   "metadata": {},
   "outputs": [
    {
     "data": {
      "text/plain": [
       "(100, 1)"
      ]
     },
     "execution_count": 5,
     "metadata": {},
     "output_type": "execute_result"
    }
   ],
   "source": [
    "Y.shape"
   ]
  },
  {
   "cell_type": "code",
   "execution_count": null,
   "metadata": {},
   "outputs": [],
   "source": [
    "class LinearRegression:\n",
    "    def __init__(self, learning_rate=1e-3, n_iters=1000):\n",
    "        # init parameters\n",
    "        self.lr = learning_rate\n",
    "        self.n_iters = n_iters\n",
    "        self.weights = None\n",
    "        self.bias = None\n",
    "    \n",
    "    def _init_params(self):\n",
    "        self.weights = np.zeros(self.n_features)\n",
    "        self.bias = 0\n",
    "    \n",
    "    def _update_params(self, dw, db):\n",
    "        self.weights -= self.lr * dw\n",
    "        self.bias -= self.lr * db\n",
    "    \n",
    "    def _get_prediction(self, X):\n",
    "        return np.dot(X, self.weights) + self.bias\n",
    "    \n",
    "    def _get_gradients(self, X, y, y_pred):\n",
    "        # get distance between y_pred and y_true\n",
    "        error = y_pred - y\n",
    "        # compute the gradients of weight & bias\n",
    "        dw = (1 / self.n_samples) * np.dot(X.T, error)\n",
    "        db = (1 / self.n_samples) * np.sum(error)\n",
    "        return dw, db\n",
    "    \n",
    "    def fit(self, X, y):\n",
    "        # get number of samples & features\n",
    "        self.n_samples, self.n_features = X.shape\n",
    "        # init weights & bias\n",
    "        self._init_params()\n",
    "\n",
    "        # perform gradient descent for n iterations\n",
    "        for _ in range(self.n_iters):\n",
    "            # get y_prediction\n",
    "            y_pred = self._get_prediction(X)\n",
    "            # compute gradients\n",
    "            dw, db = self._get_gradients(X, y, y_pred)\n",
    "            # update weights & bias with gradients\n",
    "            self._update_params(dw, db)\n",
    "    \n",
    "    def predict(self, X):\n",
    "        y_pred = self._get_prediction(X)\n",
    "        return y_pred"
   ]
  }
 ],
 "metadata": {
  "kernelspec": {
   "display_name": "Python 3.10.4 64-bit",
   "language": "python",
   "name": "python3"
  },
  "language_info": {
   "codemirror_mode": {
    "name": "ipython",
    "version": 3
   },
   "file_extension": ".py",
   "mimetype": "text/x-python",
   "name": "python",
   "nbconvert_exporter": "python",
   "pygments_lexer": "ipython3",
   "version": "3.10.4"
  },
  "orig_nbformat": 4,
  "vscode": {
   "interpreter": {
    "hash": "817775b52db1653991b8eead0337b5f576be1e32f04818ee03b008d3f723b26f"
   }
  }
 },
 "nbformat": 4,
 "nbformat_minor": 2
}
