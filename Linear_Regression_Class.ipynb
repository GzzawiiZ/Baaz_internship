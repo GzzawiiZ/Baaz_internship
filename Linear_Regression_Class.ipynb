{
 "cells": [
  {
   "cell_type": "code",
   "execution_count": 1,
   "metadata": {},
   "outputs": [],
   "source": [
    "import numpy as np\n",
    "import matplotlib as plt"
   ]
  },
  {
   "cell_type": "code",
   "execution_count": null,
   "metadata": {},
   "outputs": [],
   "source": [
    "class LinearRegression : \n",
    "    \n",
    "    def __init__ (self,epochs=200,lr=0.001,) :\n",
    "        self.epochs= epochs\n",
    "\n",
    "\n",
    "\n",
    "    def hypothesis(self,X, theta):\n",
    "        return np.dot(X, theta) \n",
    "    def gradient(self,X, y, theta):\n",
    "        h = self.hypothesis(X, theta)\n",
    "        grad = np.dot(X.transpose(), (h - y))\n",
    "        return grad\n",
    "    def cost(self, theta):\n",
    "        h = self.hypothesis(self.X, theta)\n",
    "        J = np.dot((h - y).transpose(), (h - y))\n",
    "        J /= 2\n",
    "        return J[0]\n",
    "\n",
    "    def gradientDescent(self,X, y, learning_rate=0.001, batch_size=32):\n",
    "        self.X=X\n",
    "        theta = np.zeros((X.shape[1], 1))\n",
    "        error_list = []\n",
    "        max_iters = 3\n",
    "        for itr in range(max_iters):\n",
    "            mini_batches = create_mini_batches(X, y, batch_size)\n",
    "            for mini_batch in mini_batches:\n",
    "                X_mini, y_mini = mini_batch\n",
    "                theta = theta - learning_rate * gradient(X_mini, y_mini, theta)\n",
    "                error_list.append(cost(X_mini, y_mini, theta))\n",
    "    \n",
    "        return theta, error_list"
   ]
  }
 ],
 "metadata": {
  "kernelspec": {
   "display_name": "Python 3.10.4 64-bit",
   "language": "python",
   "name": "python3"
  },
  "language_info": {
   "codemirror_mode": {
    "name": "ipython",
    "version": 3
   },
   "file_extension": ".py",
   "mimetype": "text/x-python",
   "name": "python",
   "nbconvert_exporter": "python",
   "pygments_lexer": "ipython3",
   "version": "3.10.4"
  },
  "orig_nbformat": 4,
  "vscode": {
   "interpreter": {
    "hash": "817775b52db1653991b8eead0337b5f576be1e32f04818ee03b008d3f723b26f"
   }
  }
 },
 "nbformat": 4,
 "nbformat_minor": 2
}
